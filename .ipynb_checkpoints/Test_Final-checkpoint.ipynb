{
 "cells": [
  {
   "cell_type": "code",
   "execution_count": 1,
   "metadata": {},
   "outputs": [],
   "source": [
    "import numpy as np\n",
    "import pandas as pd\n",
    "import tensorflow as tf\n",
    "from tensorflow import keras"
   ]
  },
  {
   "cell_type": "code",
   "execution_count": 2,
   "metadata": {},
   "outputs": [],
   "source": [
    "def WAPE(actual,predicted):\n",
    "    sum_actual=sum(actual)\n",
    "    diff=(abs(actual-predicted))\n",
    "    final_diff=(sum(diff))/sum_actual\n",
    "    return final_diff*100"
   ]
  },
  {
   "cell_type": "code",
   "execution_count": 3,
   "metadata": {},
   "outputs": [],
   "source": [
    "Income = tf.keras.models.load_model('Income-1.h5')\n",
    "VotingAgeCitizen = tf.keras.models.load_model('VotingAgeCitizen-1.h5')\n",
    "Employed = tf.keras.models.load_model('Employed-1.h5')\n",
    "PublicWork = tf.keras.models.load_model('PublicWork-1.h5')\n",
    "Production = tf.keras.models.load_model('Production-1.h5')"
   ]
  },
  {
   "cell_type": "code",
   "execution_count": 4,
   "metadata": {},
   "outputs": [
    {
     "name": "stdout",
     "output_type": "stream",
     "text": [
      "WARNING:tensorflow:Falling back from v2 loop because of error: Failed to find data adapter that can handle input: <class 'pandas.core.frame.DataFrame'>, <class 'NoneType'>\n",
      "WARNING:tensorflow:Falling back from v2 loop because of error: Failed to find data adapter that can handle input: <class 'pandas.core.frame.DataFrame'>, <class 'NoneType'>\n",
      "WARNING:tensorflow:Falling back from v2 loop because of error: Failed to find data adapter that can handle input: <class 'pandas.core.frame.DataFrame'>, <class 'NoneType'>\n",
      "WARNING:tensorflow:Falling back from v2 loop because of error: Failed to find data adapter that can handle input: <class 'pandas.core.frame.DataFrame'>, <class 'NoneType'>\n",
      "WARNING:tensorflow:Falling back from v2 loop because of error: Failed to find data adapter that can handle input: <class 'pandas.core.frame.DataFrame'>, <class 'NoneType'>\n",
      "[16.81608441]  [11.09595449]  [12.55563184]  [11.69477779]  [8.74046247]  "
     ]
    }
   ],
   "source": [
    "dict1={}\n",
    "dict1['Deltahat Values'] = 'Noiseless'\n",
    "dict1['Income'] = []\n",
    "dict1['VotingAgeCitizen'] = []\n",
    "dict1['Employed'] =[]\n",
    "dict1['PublicWork'] = []\n",
    "dict1['Production'] = []\n",
    "\n",
    "noiseless = pd.read_csv('noisy testsets (noiseless, naive, greedy)/noiseless/testset_1_1000.csv')\n",
    "Income_1 = noiseless.Income\n",
    "VotingAgeCitizen_1 = noiseless.VotingAgeCitizen\n",
    "Employed_1 = noiseless.Employed\n",
    "PublicWork_1 = noiseless.PublicWork\n",
    "Production_1 = noiseless.Production\n",
    "noiseless.drop(['Income','VotingAgeCitizen','Employed','PublicWork','Production'],axis='columns',inplace=True)\n",
    "\n",
    "L1=[]\n",
    "\n",
    "ans1=Income.predict(noiseless)\n",
    "a = WAPE(np.asarray(Income_1).reshape(-1,1), np.asarray(ans1).reshape(-1,1))\n",
    "L1.append(a)\n",
    "dict1['Income'].append(a)\n",
    "\n",
    "ans2=VotingAgeCitizen.predict(noiseless)\n",
    "b = WAPE(np.asarray(VotingAgeCitizen_1).reshape(-1,1), np.asarray(ans2).reshape(-1,1))\n",
    "L1.append(b)\n",
    "dict1['VotingAgeCitizen'].append(b)\n",
    "\n",
    "ans3=Employed.predict(noiseless)\n",
    "c = WAPE(np.asarray(Employed_1).reshape(-1,1), np.asarray(ans3).reshape(-1,1))\n",
    "L1.append(c)\n",
    "dict1['Employed'].append(c)\n",
    "\n",
    "ans4=PublicWork.predict(noiseless)\n",
    "d = WAPE(np.asarray(PublicWork_1).reshape(-1,1), np.asarray(ans4).reshape(-1,1))\n",
    "L1.append(d)\n",
    "dict1['PublicWork'].append(d)\n",
    "\n",
    "ans5=Production.predict(noiseless)\n",
    "e = WAPE(np.asarray(Production_1).reshape(-1,1), np.asarray(ans5).reshape(-1,1))\n",
    "L1.append(e)\n",
    "dict1['Production'].append(e)\n",
    "\n",
    "for j in range(len(L1)):\n",
    "    print(L1[j],end=\"  \")\n",
    "    \n",
    "pd.DataFrame(dict1).to_csv('Noiseless-Result.csv',index = False)"
   ]
  }
 ],
 "metadata": {
  "kernelspec": {
   "display_name": "Python 3",
   "language": "python",
   "name": "python3"
  },
  "language_info": {
   "codemirror_mode": {
    "name": "ipython",
    "version": 3
   },
   "file_extension": ".py",
   "mimetype": "text/x-python",
   "name": "python",
   "nbconvert_exporter": "python",
   "pygments_lexer": "ipython3",
   "version": "3.7.6"
  }
 },
 "nbformat": 4,
 "nbformat_minor": 2
}
